{
 "cells": [
  {
   "cell_type": "code",
   "execution_count": 1,
   "metadata": {},
   "outputs": [
    {
     "name": "stdout",
     "output_type": "stream",
     "text": [
      "Requirement already satisfied: PyMySQL in /Users/sameencai/opt/anaconda3/lib/python3.7/site-packages (0.9.3)\r\n"
     ]
    }
   ],
   "source": [
    "!pip install PyMySQL"
   ]
  },
  {
   "cell_type": "code",
   "execution_count": 2,
   "metadata": {},
   "outputs": [
    {
     "name": "stdout",
     "output_type": "stream",
     "text": [
      "Requirement already satisfied: flask_login in /Users/sameencai/opt/anaconda3/lib/python3.7/site-packages (0.5.0)\r\n",
      "Requirement already satisfied: Flask in /Users/sameencai/opt/anaconda3/lib/python3.7/site-packages (from flask_login) (1.1.1)\r\n",
      "Requirement already satisfied: Jinja2>=2.10.1 in /Users/sameencai/opt/anaconda3/lib/python3.7/site-packages (from Flask->flask_login) (2.10.3)\r\n",
      "Requirement already satisfied: click>=5.1 in /Users/sameencai/opt/anaconda3/lib/python3.7/site-packages (from Flask->flask_login) (7.0)\r\n",
      "Requirement already satisfied: Werkzeug>=0.15 in /Users/sameencai/opt/anaconda3/lib/python3.7/site-packages (from Flask->flask_login) (0.16.0)\r\n",
      "Requirement already satisfied: itsdangerous>=0.24 in /Users/sameencai/opt/anaconda3/lib/python3.7/site-packages (from Flask->flask_login) (1.1.0)\r\n",
      "Requirement already satisfied: MarkupSafe>=0.23 in /Users/sameencai/opt/anaconda3/lib/python3.7/site-packages (from Jinja2>=2.10.1->Flask->flask_login) (1.1.1)\r\n"
     ]
    }
   ],
   "source": [
    "!pip install flask_login"
   ]
  },
  {
   "cell_type": "code",
   "execution_count": 3,
   "metadata": {},
   "outputs": [
    {
     "name": "stdout",
     "output_type": "stream",
     "text": [
      "Requirement already satisfied: flask_cors in /Users/sameencai/opt/anaconda3/lib/python3.7/site-packages (3.0.8)\r\n",
      "Requirement already satisfied: Six in /Users/sameencai/opt/anaconda3/lib/python3.7/site-packages (from flask_cors) (1.12.0)\r\n",
      "Requirement already satisfied: Flask>=0.9 in /Users/sameencai/opt/anaconda3/lib/python3.7/site-packages (from flask_cors) (1.1.1)\r\n",
      "Requirement already satisfied: click>=5.1 in /Users/sameencai/opt/anaconda3/lib/python3.7/site-packages (from Flask>=0.9->flask_cors) (7.0)\r\n",
      "Requirement already satisfied: itsdangerous>=0.24 in /Users/sameencai/opt/anaconda3/lib/python3.7/site-packages (from Flask>=0.9->flask_cors) (1.1.0)\r\n",
      "Requirement already satisfied: Jinja2>=2.10.1 in /Users/sameencai/opt/anaconda3/lib/python3.7/site-packages (from Flask>=0.9->flask_cors) (2.10.3)\r\n",
      "Requirement already satisfied: Werkzeug>=0.15 in /Users/sameencai/opt/anaconda3/lib/python3.7/site-packages (from Flask>=0.9->flask_cors) (0.16.0)\r\n",
      "Requirement already satisfied: MarkupSafe>=0.23 in /Users/sameencai/opt/anaconda3/lib/python3.7/site-packages (from Jinja2>=2.10.1->Flask>=0.9->flask_cors) (1.1.1)\r\n"
     ]
    }
   ],
   "source": [
    "!pip install flask_cors"
   ]
  },
  {
   "cell_type": "code",
   "execution_count": null,
   "metadata": {},
   "outputs": [
    {
     "name": "stderr",
     "output_type": "stream",
     "text": [
      " * Running on http://localhost:9030/ (Press CTRL+C to quit)\n",
      "127.0.0.1 - - [08/Mar/2020 15:13:59] \"GET / HTTP/1.1\" 200 -\n",
      "127.0.0.1 - - [08/Mar/2020 15:13:59] \"GET /static/fonts/fontawesome-webfont.woff2?v=4.3.0 HTTP/1.1\" 404 -\n",
      "127.0.0.1 - - [08/Mar/2020 15:13:59] \"GET /static/fonts/fontawesome-webfont.woff?v=4.3.0 HTTP/1.1\" 404 -\n",
      "127.0.0.1 - - [08/Mar/2020 15:13:59] \"GET /static/fonts/fontawesome-webfont.ttf?v=4.3.0 HTTP/1.1\" 404 -\n",
      "127.0.0.1 - - [08/Mar/2020 15:14:00] \"GET /album HTTP/1.1\" 200 -\n",
      "127.0.0.1 - - [08/Mar/2020 15:14:00] \"GET /static/fonts/fontawesome-webfont.woff2?v=4.3.0 HTTP/1.1\" 404 -\n",
      "127.0.0.1 - - [08/Mar/2020 15:14:00] \"GET /static/fonts/fontawesome-webfont.woff?v=4.3.0 HTTP/1.1\" 404 -\n",
      "127.0.0.1 - - [08/Mar/2020 15:14:00] \"GET /static/fonts/fontawesome-webfont.ttf?v=4.3.0 HTTP/1.1\" 404 -\n"
     ]
    }
   ],
   "source": [
    "from flask import Flask, render_template, url_for, redirect, request, make_response, Response, jsonify\n",
    "from flask_login import LoginManager, login_user, logout_user, login_required, UserMixin\n",
    "from flask_cors import CORS\n",
    "\n",
    "import pymysql\n",
    "\n",
    "app = Flask(__name__)\n",
    "CORS(app)\n",
    "\n",
    "connection = pymysql.connect(host=\"localhost\", \n",
    "                             user=\"root\",\n",
    "                             passwd=\"root\", \n",
    "                             db=\"lesson5\",\n",
    "                             charset='utf8mb4')\n",
    "\n",
    "login_manager = LoginManager()\n",
    "login_manager.init_app(app)\n",
    "login_manager.login_view = 'login'\n",
    "app.config['SECRET_KEY'] = \"lkkajdghdadkglajkgah\"\n",
    "\n",
    "@login_manager.user_loader\n",
    "def load_user(user_id):\n",
    "    return User(user_id)\n",
    "\n",
    "class User(UserMixin):\n",
    "  def __init__(self,id):\n",
    "    self.id = id\n",
    "\n",
    "############ Web Page Routes Setup ###############\n",
    "\n",
    "@app.route(\"/\")\n",
    "@login_required\n",
    "def home():\n",
    "    return render_template('home.html')\n",
    "\n",
    "@app.route(\"/login\")\n",
    "def login():\n",
    "    message = 'Please login in first.'\n",
    "    return render_template('login.html', message=message)\n",
    "\n",
    "@app.route('/query_auth')\n",
    "def query_auth():\n",
    "    username = request.args.get(\"username\")\n",
    "    password = request.args.get(\"password\")\n",
    "    if username == \"bernard@cuhk.edu.hk\" and password == \"1234\":\n",
    "        login_user(User(1))\n",
    "        message = \"Dear \" + username + \", welcome to Sameen's pages. Your login has been granted.\"\n",
    "        return make_response(message, 200, )\n",
    "    else:\n",
    "        message = 'Wrong password!'\n",
    "        return make_response( message,401,{'WWW-Authenticate':'Basic realm=\"Login Required\"'})\n",
    "\n",
    "@app.route(\"/form_auth\",methods=['POST'])\n",
    "def form_auth():\n",
    "    username = request.form['email']\n",
    "    password = request.form['pwd']\n",
    "    if username == \"bernard@cuhk.edu.hk\" and password == \"1234\":\n",
    "        login_user(User(1))\n",
    "        message = \"Dear \" + username + \", welcome to Sameen's pages. Your login has been granted.\"\n",
    "        return render_template('home.html', message=message)\n",
    "    else:\n",
    "        message = 'Wrong password!'\n",
    "        return render_template('login.html',message=message)\n",
    "\n",
    "@app.route('/album')\n",
    "@login_required\n",
    "def album():\n",
    "    user = {\"name\":\"Bernard\"}\n",
    "    with connection.cursor() as cursor:\n",
    "        sql = \"SELECT * FROM poster\"\n",
    "        cursor.execute(sql)\n",
    "        result = cursor.fetchall()\n",
    "    final_result = [list(i) for i in result]\n",
    "    dataset=[]\n",
    "    dict={}\n",
    "    for i in final_result:\n",
    "        dict['Name'] = i[0]\n",
    "        dict['desc'] = i[1]\n",
    "        dict['Year'] = i[2]\n",
    "        dict['Cast'] = i[3]\n",
    "        dict['Type'] = i[4]\n",
    "        dict['url'] = i[5]\n",
    "        dataset.append(dict.copy()) #markers.append(fld.copy())\n",
    "    return render_template('product2.html',album_user=user, dataset=dataset)\n",
    "\n",
    "@app.route('/logout/')\n",
    "@login_required\n",
    "def logout():\n",
    "    logout_user()\n",
    "    message = 'Thanks for logging out.'\n",
    "    return render_template('login.html',message=message)\n",
    "\n",
    "@app.errorhandler(500)\n",
    "def internal_error(error):\n",
    "    message = 'Wrong password!'\n",
    "    return render_template('login.html',message=message),500\n",
    "\n",
    "######### API Endpoints ##########\n",
    "\n",
    "@app.route('/api_auth', methods=['POST'])\n",
    "def api_auth():\n",
    "    username = request.json['username']\n",
    "    password = request.json['password']\n",
    "    if username == \"bernard@cuhk.edu.hk\" and password == \"1234\":\n",
    "        login_user(User(1))\n",
    "        message = \"Dear \" + username + \", welcome to Sameen's pages. Your login has been granted.\"\n",
    "        return jsonify({'response':'ok!','message':message})\n",
    "    else:\n",
    "        message = 'Wrong password!'\n",
    "        return jsonify({'response':'Invalid!','message':'Cannot authenticate.'})\n",
    "@app.route('/api_album', methods=['POST'])\n",
    "@login_required\n",
    "def api_album():\n",
    "    with connection.cursor() as cursor:\n",
    "        sql = \"SELECT * FROM poster\"\n",
    "        cursor.execute(sql)\n",
    "        result = cursor.fetchall()\n",
    "    final_result = [list(i) for i in result]\n",
    "    dataset=[]\n",
    "    dict={}\n",
    "    for i in final_result:\n",
    "        dict['Name'] = i[0]\n",
    "        dict['desc'] = i[1]\n",
    "        dict['Year'] = i[2]\n",
    "        dict['Cast'] = i[3]\n",
    "        dict['Type'] = i[4]\n",
    "        dict['url'] = i[5]\n",
    "        dataset.append(dict.copy()) #markers.append(fld.copy())\n",
    "    return jsonify({'Album': dataset})\n",
    "\n",
    "######### Run Flask Web App at Port 9030 ##########\n",
    "\n",
    "if __name__ == '__main__':\n",
    "    from werkzeug.serving import run_simple\n",
    "    run_simple('localhost', 9030, app)"
   ]
  },
  {
   "cell_type": "code",
   "execution_count": null,
   "metadata": {},
   "outputs": [],
   "source": []
  }
 ],
 "metadata": {
  "kernelspec": {
   "display_name": "Python 3",
   "language": "python",
   "name": "python3"
  },
  "language_info": {
   "codemirror_mode": {
    "name": "ipython",
    "version": 3
   },
   "file_extension": ".py",
   "mimetype": "text/x-python",
   "name": "python",
   "nbconvert_exporter": "python",
   "pygments_lexer": "ipython3",
   "version": "3.7.4"
  }
 },
 "nbformat": 4,
 "nbformat_minor": 2
}
