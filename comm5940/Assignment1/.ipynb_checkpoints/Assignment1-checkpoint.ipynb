{
 "cells": [
  {
   "cell_type": "code",
   "execution_count": null,
   "metadata": {},
   "outputs": [],
   "source": [
    "<h1>MySQL and Airtable Data Access</h1>"
   ]
  },
  {
   "cell_type": "code",
   "execution_count": 1,
   "metadata": {},
   "outputs": [
    {
     "name": "stdout",
     "output_type": "stream",
     "text": [
      "Requirement already satisfied: PyMySQL in /Users/sameencai/opt/anaconda3/lib/python3.7/site-packages (0.9.3)\r\n"
     ]
    }
   ],
   "source": [
    "!pip install PyMySQL"
   ]
  },
  {
   "cell_type": "code",
   "execution_count": 1,
   "metadata": {},
   "outputs": [],
   "source": [
    "import pymysql.cursors\n",
    "connection = pymysql.connect(host=\"localhost\", \n",
    "                     user=\"root\",   \n",
    "                     passwd=\"root\", \n",
    "                     db=\"finaldata\",   \n",
    "                     charset='utf8mb4',\n",
    "                     cursorclass=pymysql.cursors.DictCursor)"
   ]
  },
  {
   "cell_type": "code",
   "execution_count": 8,
   "metadata": {},
   "outputs": [
    {
     "name": "stdout",
     "output_type": "stream",
     "text": [
      "\n",
      "\n",
      "[{'productID': 1001, 'productCode': 'PEN', 'name': 'Pen Red', 'quantity': 5000, 'price': Decimal('1.23'), 'supplierID': 501}, {'productID': 1002, 'productCode': 'PEN', 'name': 'Pen Blue', 'quantity': 8000, 'price': Decimal('1.25'), 'supplierID': 501}, {'productID': 1003, 'productCode': 'PEN', 'name': 'Pen Black', 'quantity': 2000, 'price': Decimal('1.25'), 'supplierID': 501}, {'productID': 1004, 'productCode': 'PEC', 'name': 'Pencil 2B', 'quantity': 10000, 'price': Decimal('0.48'), 'supplierID': 501}, {'productID': 1005, 'productCode': 'PEC', 'name': 'Pencil 2H', 'quantity': 8000, 'price': Decimal('0.49'), 'supplierID': 502}, {'productID': 1006, 'productCode': 'PEC', 'name': 'Pencil HB', 'quantity': 0, 'price': Decimal('99999.99'), 'supplierID': 501}, {'productID': 2001, 'productCode': 'PEC', 'name': 'Pencil 3B', 'quantity': 500, 'price': Decimal('0.52'), 'supplierID': 503}, {'productID': 2002, 'productCode': 'PEC', 'name': 'Pencil 4B', 'quantity': 200, 'price': Decimal('0.62'), 'supplierID': 501}, {'productID': 2003, 'productCode': 'PEC', 'name': 'Pencil 5B', 'quantity': 100, 'price': Decimal('0.73'), 'supplierID': 503}, {'productID': 2004, 'productCode': 'PEC', 'name': 'Pencil 6B', 'quantity': 500, 'price': Decimal('0.47'), 'supplierID': 502}]\n",
      "\n",
      "\n"
     ]
    }
   ],
   "source": [
    "with connection.cursor() as cursor:\n",
    "        sql = \"SELECT * FROM table\"\n",
    "        cursor.execute(sql)\n",
    "        result = cursor.fetchall()\n",
    "        dataset = []\n",
    "        temp = {}\n",
    "        i = 0\n",
    "        for row in result:\n",
    "            temp[i] = row\n",
    "            dataset.append(temp[i])\n",
    "            i = i + 1\n",
    "        print('\\n')\n",
    "        print(dataset)\n",
    "        print('\\n')"
   ]
  },
  {
   "cell_type": "code",
   "execution_count": 2,
   "metadata": {},
   "outputs": [
    {
     "name": "stdout",
     "output_type": "stream",
     "text": [
      "Requirement already satisfied: requests in /Users/sameencai/opt/anaconda3/lib/python3.7/site-packages (2.22.0)\r\n",
      "Requirement already satisfied: certifi>=2017.4.17 in /Users/sameencai/opt/anaconda3/lib/python3.7/site-packages (from requests) (2019.9.11)\r\n",
      "Requirement already satisfied: idna<2.9,>=2.5 in /Users/sameencai/opt/anaconda3/lib/python3.7/site-packages (from requests) (2.8)\r\n",
      "Requirement already satisfied: chardet<3.1.0,>=3.0.2 in /Users/sameencai/opt/anaconda3/lib/python3.7/site-packages (from requests) (3.0.4)\r\n",
      "Requirement already satisfied: urllib3!=1.25.0,!=1.25.1,<1.26,>=1.21.1 in /Users/sameencai/opt/anaconda3/lib/python3.7/site-packages (from requests) (1.24.2)\r\n"
     ]
    }
   ],
   "source": [
    "!pip install requests"
   ]
  },
  {
   "cell_type": "code",
   "execution_count": 3,
   "metadata": {},
   "outputs": [
    {
     "name": "stdout",
     "output_type": "stream",
     "text": [
      "[{'FacilityName': 'Aberdeen Sports Centre', 'Address': '6/F Aberdeen Municipal Services Building, 203 Aberdeen Main Road, Aberdeen', 'District': 'SOUTHERN', 'FacilityType': 'Basketball Courts, Volleyball Courts, Badminton Courts, Squash Courts, Table Tennis Tables, Activity Rooms, Fitness Rooms, Dance Rooms, D6 Play Rooms', 'Lat': 22.24956, 'Lng': 114.15436}, {'FacilityName': 'Ap Lei Chau Sports Centre', 'Address': '8 Hung Shing Street, Apleichau', 'District': 'SOUTHERN', 'FacilityType': \"Basketball Courts, Volleyball Courts, Netball Courts, Badminton Courts, Bowling Greens, Squash Courts, Table Tennis Tables, Activity Rooms, Fitness Rooms, Dance Rooms, Chilren's Play Rooms\", 'Lat': 22.24448, 'Lng': 114.15542}, {'FacilityName': 'Chai Wan Sports Centre', 'Address': '6 Yee Shun Street, Chai Wan', 'District': 'EASTERN', 'FacilityType': 'Basketball Courts, Volleyball Courts, Badminton Courts, Squash Courts, Table Tennis Tables, Activity Rooms, Fitness Rooms', 'Lat': 22.26485, 'Lng': 114.23991}, {'FacilityName': 'Cheung Chau Sports Centre', 'Address': 'Nam She Tong, Cheung Chau', 'District': 'ISLANDS', 'FacilityType': \"Basketball Courts, Volleyball Courts, Badminton Courts, Gateball Courts, Table Tennis Tables, Activity Rooms, Fitness Rooms, Chilren's Play Rooms\", 'Lat': 22.20751, 'Lng': 114.03118}, {'FacilityName': 'Cheung Fat Sports Centre', 'Address': '4/F, Cheung Fat Shopping Centre, Cheung Fat Estate, Tsing Yi', 'District': 'KWAI TSING', 'FacilityType': 'Basketball Courts, Volleyball Courts, Badminton Courts, Squash Courts, Table Tennis Tables, Activity Rooms, Fitness Rooms', 'Lat': 22.36247, 'Lng': 114.1027}, {'FacilityName': 'Choi Hung Road Sports Centre', 'Address': 'Sheung Hei Street, Wong Tai Sin', 'District': 'WONG TAI SIN', 'FacilityType': 'Basketball Courts, Volleyball Courts, Badminton Courts, Squash Courts, Table Tennis Tables, Activity Rooms, Fitness Rooms', 'Lat': 22.33713, 'Lng': 114.19645}, {'FacilityName': 'Chuk Yuen Sports Centre', 'Address': 'Chuk Yuen North Estate, Chuk Yuen Road, Wong Tai Sin', 'District': 'WONG TAI SIN', 'FacilityType': 'Basketball Courts, Volleyball Courts, Badminton Courts, Squash Courts, Table Tennis Tables, Activity Rooms, Fitness Rooms', 'Lat': 22.34552, 'Lng': 114.19351}, {'FacilityName': 'Fa Yuen Street Sports Centre', 'Address': '13/F Fa Yuen Street Municipal Services Building, 123A Fa Yuen Street, Mong Kok', 'District': 'YAU TSIM MONG', 'FacilityType': 'Basketball Courts, Volleyball Courts, Badminton Courts, Squash Courts, Table Tennis Tables, Activity Rooms, Fitness Rooms, Dance Rooms', 'Lat': 22.32078, 'Lng': 114.1707}, {'FacilityName': 'Fat Kwong Street Sports Centre', 'Address': '18 Good Shepherd Street, Ho Man Tin', 'District': 'KOWLOON CITY', 'FacilityType': 'Basketball Courts, Volleyball Courts, Badminton Courts, Squash Courts, Table Tennis Tables, Activity Rooms, Fitness Rooms', 'Lat': 22.31483, 'Lng': 114.18111}, {'FacilityName': 'Fu Heng Sports Centre', 'Address': '1/F, Fu Heng Shopping Centre, Fu Heng Estate, Tai Po', 'District': 'TAI PO', 'FacilityType': 'Basketball Courts, Volleyball Courts, Badminton Courts, Squash Courts, Table Tennis Tables, Activity Rooms, Fitness Rooms', 'Lat': 22.45829, 'Lng': 114.17136}, {'FacilityName': 'Fu Shin Sports Centre', 'Address': 'Multi Car-Park Building, Fu Shin Estate, Tai Po', 'District': 'TAI PO', 'FacilityType': 'Basketball Courts, Volleyball Courts, Badminton Courts, Table Tennis Tables, Activity Rooms, Fitness Rooms, Dance Rooms', 'Lat': 22.45388, 'Lng': 114.17412}, {'FacilityName': 'Fung Kam Street Sports Centre', 'Address': '20 Fung Yau Street North, Yuen Long', 'District': 'YUEN LONG', 'FacilityType': 'Basketball Courts, Volleyball Courts, Badminton Courts, Table Tennis Tables, Activity Rooms, Fitness Rooms', 'Lat': 22.44306, 'Lng': 114.03303}, {'FacilityName': 'Fung Shue Wo Sports Centre', 'Address': '10 Fung Shue Wo Road, Tsing Yi Estate, Phase II, Tsing Yi', 'District': 'KWAI TSING', 'FacilityType': 'Basketball Courts, Volleyball Courts, Badminton Courts, Activity Rooms, Fitness Rooms', 'Lat': 22.35548, 'Lng': 114.10269}, {'FacilityName': 'Hang Hau Sports Centre', 'Address': '1-3/F, Sai Kung Tseung Kwan O Government Complex, 38 Pui Shing Road, Tseung Kwan O.', 'District': 'SAI KUNG', 'FacilityType': \"Basketball Courts, Volleyball Courts, Badminton Courts, Table Tennis Tables, Activity Rooms, Fitness Rooms, Chilren's Play Rooms, Indoor Jogging Tracks\", 'Lat': 22.31717, 'Lng': 114.26824}, {'FacilityName': 'Heng On Sports Centre', 'Address': '4/F., Heng On Commercial Centre, Heng On Estate, Ma On Shan, Sha Tin', 'District': 'SHA TIN', 'FacilityType': 'Basketball Courts, Volleyball Courts, Badminton Courts, Squash Courts, Table Tennis Tables, Activity Rooms, Fitness Rooms', 'Lat': 22.41669, 'Lng': 114.22787}, {'FacilityName': 'Ho Man Tin Sports Centre', 'Address': '1 Chung Yee street, Ho Man Tin', 'District': 'KOWLOON CITY', 'FacilityType': \"Table Tennis Tables, American Pool Tables, Activity Rooms, Tennis Courts, Fitness Rooms, Chilren's Play Rooms\", 'Lat': 22.31197, 'Lng': 114.18124}, {'FacilityName': 'Hong Kong Park Sports Centre', 'Address': '29 Cotton Tree Drive, Central', 'District': 'CENTRAL AND WESTERN', 'FacilityType': 'Badminton Courts, Basketball Courts, Dance Rooms, Fitness Rooms, Indoor Jogging Tracks, Netball Courts, Table Tennis Tables, Volleyball Courts', 'Lat': 22.27734, 'Lng': 114.15929}, {'FacilityName': 'Island East Sports Centre', 'Address': '52 Lei King Road, Sai Wan Ho', 'District': 'EASTERN', 'FacilityType': \"Basketball Courts, Volleyball Courts, Badminton Courts, Dance Rooms, Activity Rooms, Table Tennis Tables, Golf Facilities, Fitness Rooms, Chilren's Play Rooms, Bowling Greens, Swimming Pools\", 'Lat': 22.28472, 'Lng': 114.22229}, {'FacilityName': 'Kowloon Park Sports Centre', 'Address': '22 Austin Road, Tsim Sha Tsui', 'District': 'YAU TSIM MONG', 'FacilityType': 'Volleyball Courts, Netball Courts, Badminton Courts, Handball Courts, Squash Courts, Activity Rooms, Fitness Rooms, Dance Rooms, Table Tennis Tables', 'Lat': 22.30186, 'Lng': 114.16996}, {'FacilityName': 'Kwun Chung Sports Centre', 'Address': '5/F - 7/F, 17 Bowring Street, Jordon', 'District': 'YAU TSIM MONG', 'FacilityType': 'Basketball Courts, Volleyball Courts, Badminton Courts, Squash Courts, Table Tennis Tables, Activity Rooms, Fitness Rooms, Dance Rooms', 'Lat': 22.30444, 'Lng': 114.16826}, {'FacilityName': 'Lai King Sports Centre', 'Address': '60 Lai Cho Road, Lai King, Kwai Chung', 'District': 'KWAI TSING', 'FacilityType': 'Basketball Courts, Volleyball Courts, Badminton Courts, Squash Courts, Table Tennis Tables, Activity Rooms, Fitness Rooms', 'Lat': 22.34986, 'Lng': 114.12767}, {'FacilityName': 'Lam Tin South Sports Centre', 'Address': '170 Pik Wan Road, Lam Tin, Kwun Tong', 'District': 'KWUN TONG', 'FacilityType': \"Basketball Courts, Volleyball Courts, Netball Courts, Badminton Courts, Activity Rooms, Fitness Rooms, Squash Courts, Table Tennis Tables, Chilren's Play Rooms\", 'Lat': 22.30386, 'Lng': 114.23884}, {'FacilityName': 'Lei Yue Mun Sports Centre', 'Address': '2/F to 5/F of Lei Yue Mun Municipal Services Building, Yau Tong, Kowloon', 'District': 'KWUN TONG', 'FacilityType': \"Basketball Courts, Volleyball Courts, Badminton Courts, Activity Rooms, Fitness Rooms, Sports Climbing Facilities, Sanshou Training Hall, Table Tennis Tables, American Pool Tables, Squash Courts, Chilren's Play Rooms\", 'Lat': 22.29206, 'Lng': 114.23868}, {'FacilityName': 'Leung Tin Sports Centre', 'Address': '4/F, Carpark Building, Tin King Estate, Tuen Mun', 'District': 'TUEN MUN', 'FacilityType': 'Basketball Courts, Volleyball Courts, Badminton Courts, Squash Courts, Table Tennis Tables, Activity Rooms, Fitness Rooms', 'Lat': 22.4066, 'Lng': 113.96508}, {'FacilityName': 'Lockhart Road Sports Centre', 'Address': '10/F Lockhart Road Municipal Services Building, 225 Hennessy Road, Wanchai', 'District': 'WAN CHAI', 'FacilityType': 'Basketball Courts, Volleyball Courts, Badminton Courts, Squash Courts, Table Tennis Tables, Activity Rooms, Fitness Rooms', 'Lat': 22.27808, 'Lng': 114.17542}, {'FacilityName': 'Long Ping Sports Centre', 'Address': 'Unit 202, 2/F, Long Ping Commercial Centre, Long Ping Estate, Yuen Long', 'District': 'YUEN LONG', 'FacilityType': 'Basketball Courts, Volleyball Courts, Badminton Courts, Squash Courts, Table Tennis Tables, Activity Rooms, Fitness Rooms', 'Lat': 22.4503, 'Lng': 114.02319}, {'FacilityName': 'Luen Wo Hui Sports Centre', 'Address': '3/F., 9 Wo Mun Street, Fanling', 'District': 'NORTH', 'FacilityType': \"Table Tennis Tables, Fitness Rooms, Activity Rooms, Dance Rooms, Chilren's Play Rooms\", 'Lat': 22.50028, 'Lng': 114.14502}, {'FacilityName': 'Lung Sum Avenue Sports Centre', 'Address': '155 Jockey Club Road, Sheung Shui', 'District': 'NORTH', 'FacilityType': 'Basketball Courts, Volleyball Courts, Badminton Courts, Squash Courts, Table Tennis Tables, Activity Rooms, Fitness Rooms, Dance Rooms', 'Lat': 22.50498, 'Lng': 114.13045}, {'FacilityName': 'Ma On Shan Sports Centre', 'Address': '14 On Chun Street, Ma On Shan, Shatin', 'District': 'SHA TIN', 'FacilityType': \"Basketball Courts, Volleyball Courts, Badminton Courts, Handball Courts, Table Tennis Tables, Fitness Rooms, Dance Rooms, Activity Rooms, Chilren's Play Rooms\", 'Lat': 22.42602, 'Lng': 114.22956}, {'FacilityName': 'Mei Lam Sports Centre', 'Address': 'Mei Lam Estate Phase III, Tai Wai, Sha Tin', 'District': 'SHA TIN', 'FacilityType': 'Basketball Courts, Volleyball Courts, Badminton Courts, Squash Courts, Table Tennis Tables, Activity Rooms, Fitness Rooms, Dance Rooms', 'Lat': 22.37908, 'Lng': 114.1755}, {'FacilityName': 'Mui Wo Sports Centre', 'Address': '1/F, Mui Wo Municipal Services Building, 9 Ngan Shek Street, Lantau Island', 'District': 'ISLANDS', 'FacilityType': 'Basketball Courts, Volleyball Courts, Badminton Courts, Gateball Courts, Activity Rooms, Fitness Rooms, Squash Courts', 'Lat': 22.26699, 'Lng': 113.99648}, {'FacilityName': 'Ngau Tau Kok Road Sports Centre', 'Address': '3/F-4/F Ngau Tau Kok Municipal Services Building, 183 Ngau Tau Kok Road, Ngau Tau Kok', 'District': 'KWUN TONG', 'FacilityType': 'Basketball Courts, Volleyball Courts, Badminton Courts, Table Tennis Tables, Activity Rooms, Fitness Rooms', 'Lat': 22.32148, 'Lng': 114.21638}, {'FacilityName': 'North Kwai Chung Tang Shiu Kin Sports Centre', 'Address': '292 Wo Yi Hop Road, Kwai Chung', 'District': 'KWAI TSING', 'FacilityType': 'Basketball Courts, Volleyball Courts, Badminton Courts, Tennis Courts, Squash Courts, Table Tennis Tables, Activity Rooms, Fitness Rooms', 'Lat': 22.37387, 'Lng': 114.13756}, {'FacilityName': 'Osman Ramju Sadick Memorial Sports Centre', 'Address': '176 Hing Fong Road, Kwai Chung', 'District': 'KWAI TSING', 'FacilityType': 'Basketball Courts, Volleyball Courts, Badminton Courts, Table Tennis Tables, Activity Rooms, Fitness Rooms, Dance Rooms', 'Lat': 22.36112, 'Lng': 114.12952}, {'FacilityName': 'Pei Ho Street Sports Centre', 'Address': '5/F Pei Ho Street Municipal Services Building, 333 Ki Lung Street, Sham Shui Po', 'District': 'SHAM SHUI PO', 'FacilityType': \"Basketball Courts, Volleyball Courts, Badminton Courts, Squash Courts, Table Tennis Tables, Activity Rooms, Fitness Rooms, Dance Rooms, Chilren's Play Rooms\", 'Lat': 22.32924, 'Lng': 114.16113}, {'FacilityName': 'Peng Chau Sports Centre', 'Address': 'Peng Chau Municipal Services Building, 6 Po Peng Street, Peng Chau', 'District': 'ISLANDS', 'FacilityType': 'Basketball Courts, Volleyball Courts, Badminton Courts, Squash Courts, Activity Rooms, Fitness Rooms', 'Lat': 22.28489, 'Lng': 114.03805}, {'FacilityName': 'Po Kong Village Road Sports Centre', 'Address': '120 Po Kong Village Road, Wong Tai Sin', 'District': 'WONG TAI SIN', 'FacilityType': \"Basketball Courts, Volleyball Courts, Badminton Courts, Squash Courts, Table Tennis Tables, Activity Rooms, Fitness Rooms, Chilren's Play Rooms\", 'Lat': 22.34546, 'Lng': 114.20159}, {'FacilityName': 'Po Lam Sports Centre', 'Address': 'Po Lam Estate, Tseung Kwan O, Sai Kung', 'District': 'SAI KUNG', 'FacilityType': 'Basketball Courts, Volleyball Courts, Badminton Courts, Squash Courts, Table Tennis Tables, Activity Rooms, Fitness Rooms', 'Lat': 22.32586, 'Lng': 114.25511}, {'FacilityName': 'Po On Road Sports Centre', 'Address': '1/F & 2/F Po On Road Municipal Services Building, 325-329 Po On Road, Sham Shui Po', 'District': 'SHAM SHUI PO', 'FacilityType': 'Basketball Courts, Volleyball Courts, Badminton Courts, Squash Courts, Table Tennis Tables, Activity Rooms, Fitness Rooms, Dance Rooms', 'Lat': 22.33862, 'Lng': 114.15739}, {'FacilityName': 'Po Wing Road Sports Centre', 'Address': '19 Pak Wo Road, Sheung Shui, New Territories', 'District': 'NORTH', 'FacilityType': \"Basketball Courts, Volleyball Courts, Badminton Courts, Table Tennis Tables, American Pool Tables, Activity Rooms, Fitness Rooms, Chilren's Play Rooms, Indoor Jogging Tracks, Sports Climbing Facilities\", 'Lat': 22.49698, 'Lng': 114.12834}, {'FacilityName': 'Quarry Bay Sports Centre', 'Address': '6/F & 7/F, Quarry Bay Municipal Services Building, 38 Quarry Bay Street, Quarry Bay', 'District': 'EASTERN', 'FacilityType': 'Basketball Courts, Volleyball Courts, Badminton Courts, Squash Courts, Table Tennis Tables, Activity Rooms, Fitness Rooms, Dance Rooms', 'Lat': 22.28369, 'Lng': 114.21179}, {'FacilityName': 'Shek Kip Mei Park Sports Centre', 'Address': '290 Nam Cheong Street, Shek Kip Mei', 'District': 'SHAM SHUI PO', 'FacilityType': \"Basketball Courts, Volleyball Courts, Netball Courts, Handball Courts, Badminton Courts, Activity Rooms, Dance Rooms, Fitness Rooms, Chilren's Play Rooms, Sports Climbing Facilities\", 'Lat': 22.33729, 'Lng': 114.16996}, {'FacilityName': 'Shek Tong Tsui Sports Centre', 'Address': \"5/F Shek Tong Tsui Municipal Services Building, 470 Queen's Road West\", 'District': 'CENTRAL AND WESTERN', 'FacilityType': \"Basketball Courts, Volleyball Courts, Badminton Courts, Squash Courts, Table Tennis Tables, Activity Rooms, Fitness Rooms, Dance Rooms, Chilren's Play Rooms\", 'Lat': 22.28572, 'Lng': 114.13605}, {'FacilityName': 'Sheung Wan Sports Centre', 'Address': \"11/F Sheung Wan Municipal Services Building, 345 Queen's Road Central\", 'District': 'CENTRAL AND WESTERN', 'FacilityType': 'Basketball Courts, Volleyball Courts, Badminton Courts, Squash Courts, Table Tennis Tables, Activity Rooms, Fitness Rooms, Dance Rooms', 'Lat': 22.286, 'Lng': 114.14963}, {'FacilityName': 'Shun Lee Tsuen Sports Centre', 'Address': 'Shun Lee Tsuen Road, Kwun Tong', 'District': 'KWUN TONG', 'FacilityType': \"Basketball Courts, Netball Courts, Badminton Courts, Gymnastics Traning Hall, Fitness Rooms, Dance Rooms, Table Tennis Tables, Squash Courts, Activity Rooms, Golf Facilities, Sports Climbing Facilities, Chilren's Play Rooms\", 'Lat': 22.32969, 'Lng': 114.22544}, {'FacilityName': 'Siu Lun Sports Centre', 'Address': '2-5/F Tuen Mun Siu Lun Government Complex, 19 Siu Lun Street, Tuen Mun, N.T.', 'District': 'TUEN MUN', 'FacilityType': \"Activity Rooms, Badminton Courts, Basketball Courts, Chilren's Play Rooms, Fitness Rooms, Handball Courts, Sports Climbing Facilities, Table Tennis Tables, Volleyball Courts\", 'Lat': 22.38425, 'Lng': 113.9792}, {'FacilityName': 'Smithfield Sports Centre', 'Address': '4/F, Smithfield Municipal Services Building, 12K Smithfield Road, Kennedy Town, Western', 'District': 'CENTRAL AND WESTERN', 'FacilityType': \"Basketball Courts, Volleyball Courts, Badminton Courts, Fitness Rooms, Dance Rooms, Activity Rooms, Table Tennis Tables, Squash Courts, American Pool Tables, Chilren's Play Rooms\", 'Lat': 22.28194, 'Lng': 114.12864}, {'FacilityName': 'Sun Yat Sen Memorial Park Sports Centre', 'Address': '18 Eastern Street North, Sai Ying Pun', 'District': 'CENTRAL AND WESTERN', 'FacilityType': \"Basketball Courts, Volleyball Courts, Netball Courts, Badminton Courts, Handball Courts, Fitness Rooms, Dance Rooms, Squash Courts, Activity Rooms, Table Tennis Tables, Chilren's Play Rooms\", 'Lat': 22.29017, 'Lng': 114.14349}, {'FacilityName': 'Tai Hing Sports Centre', 'Address': '38 Tsing Chung Koon Road, Tuen Mun', 'District': 'TUEN MUN', 'FacilityType': 'Basketball Courts, Volleyball Courts, Netball Courts, Badminton Courts, Squash Courts, Table Tennis Tables, Activity Rooms, Dance Rooms, Fitness Rooms', 'Lat': 22.40338, 'Lng': 113.97307}, {'FacilityName': 'Tai Kok Tsui Sports Centre', 'Address': '5-7/F., Tai Kok Tsui Municipal Services Building, 63 Fuk Tsun Street, Tai Kok Tsui', 'District': 'YAU TSIM MONG', 'FacilityType': \"Basketball Courts, Volleyball Courts, Badminton Courts, Sports Climbing Facilities, Fitness Rooms, Chilren's Play Rooms, Table Tennis Tables, Activity Rooms\", 'Lat': 22.32188, 'Lng': 114.16279}, {'FacilityName': 'Tai Po Hui Sports Centre', 'Address': '6/F Multi Car-Park Building, Fu Shin Estate, 8 Heung Sze Wui Street, Tai Po', 'District': 'TAI PO', 'FacilityType': \"Basketball Courts, Volleyball Courts, Badminton Courts, Table Tennis Tables, Activity Rooms, Fitness Rooms, Dance Rooms, Chilren's Play Rooms\", 'Lat': 22.44612, 'Lng': 114.16658}, {'FacilityName': 'Tai Po Sports Centre', 'Address': '13 Ting Tai Road, Tai Po', 'District': 'TAI PO', 'FacilityType': 'Basketball Courts, Volleyball Courts, Badminton Courts, Squash Courts, Table Tennis Tables, Activity Rooms, Fitness Rooms, Dance Rooms', 'Lat': 22.45534, 'Lng': 114.1649}, {'FacilityName': 'Tai Wo Hau Sports Centre', 'Address': '39 Tai Ha Street, Tai Wo Hau, Kwai Chung', 'District': 'KWAI TSING', 'FacilityType': 'Basketball Courts, Volleyball Courts, Badminton Courts, Squash Courts, Table Tennis Tables, Activity Rooms, Fitness Rooms', 'Lat': 22.3702, 'Lng': 114.12495}, {'FacilityName': 'Tai Wo Sports Centre', 'Address': 'Podium Level, Tai Wo Shopping Centre, Tai Wo Estate, Tai Po', 'District': 'TAI PO', 'FacilityType': 'Basketball Courts, Volleyball Courts, Badminton Courts, Squash Courts, Table Tennis Tables, Activity Rooms, Fitness Rooms', 'Lat': 22.451, 'Lng': 114.16058}, {'FacilityName': 'The Jockey Club Tuen Mun Butterfly Beach Sports Centre', 'Address': 'Wu Shan Road, Tuen Mun', 'District': 'TUEN MUN', 'FacilityType': 'Basketball Courts, Volleyball Courts, Badminton Courts, Squash Courts, Table Tennis Tables, Activity Rooms, Fitness Rooms, Dance Rooms', 'Lat': 22.37869, 'Lng': 113.9647}, {'FacilityName': 'Tin Fai Road Sports Centre', 'Address': 'No. 63, Tin Shui Road, Tin Shui Wai, Yuen Long, N.T.', 'District': 'YUEN LONG', 'FacilityType': \"Badminton Courts, Activity Rooms, Basketball Courts, Volleyball Courts, Fitness Rooms, Table Tennis Tables, Chilren's Play Rooms, Sports Climbing Facilities, Indoor Jogging Tracks, Spectator Stands\", 'Lat': 22.4648, 'Lng': 113.99702}, {'FacilityName': 'Tin Ping Sports Centre', 'Address': '3/F., Tin Ping Estate Shopping Centre, Tin Ping Estate, North', 'District': 'NORTH', 'FacilityType': 'Basketball Courts, Volleyball Courts, Badminton Courts, Squash Courts, Table Tennis Tables, Activity Rooms, Fitness Rooms', 'Lat': 22.50332, 'Lng': 114.13365}, {'FacilityName': 'Tin Shui Sports Centre', 'Address': '7 Tin Shui Road, Tin Shui Wai, Yuen Long', 'District': 'YUEN LONG', 'FacilityType': \"Basketball Courts, Volleyball Courts, Badminton Courts, Handball Courts, Table Tennis Tables, Activity Rooms, Fitness Rooms, Chilren's Play Rooms\", 'Lat': 22.45477, 'Lng': 113.99798}, {'FacilityName': 'Tin Shui Wai Sports Centre', 'Address': '1 Tin Pak Road, Tin Shui Wai, Yuen Long', 'District': 'YUEN LONG', 'FacilityType': 'Basketball Courts, Volleyball Courts, Badminton Courts, Squash Courts, Activity Rooms, Fitness Rooms, Dance Rooms', 'Lat': 22.45501, 'Lng': 114.00654}, {'FacilityName': 'To Kwa Wan Sports Centre', 'Address': '66 Ha Heung Road, To Kwa Wan', 'District': 'KOWLOON CITY', 'FacilityType': 'Basketball Courts, Volleyball Courts, Netball Courts, Badminton Courts, Activity Rooms, Squash Courts, Table Tennis Tables, Fitness Rooms', 'Lat': 22.31885, 'Lng': 114.19012}, {'FacilityName': 'Tseung Kwan O Sports Centre', 'Address': '9 Wan Lung Road, Tseung Kwan O, Sai Kung', 'District': 'SAI KUNG', 'FacilityType': 'Basketball Courts, Volleyball Courts, Badminton Courts, Squash Courts, Table Tennis Tables, Activity Rooms, Fitness Rooms', 'Lat': 22.3171, 'Lng': 114.25963}, {'FacilityName': 'Tsing Yi Sports Centre', 'Address': '2/F, Tsing Yi Municipal Services Building, 38 Tsing Luk Street, Tsing Yi', 'District': 'KWAI TSING', 'FacilityType': 'Basketball Courts, Volleyball Courts, Badminton Courts, Squash Courts, Table Tennis Tables, Activity Rooms, Fitness Rooms, Dance Rooms', 'Lat': 22.35421, 'Lng': 114.10651}, {'FacilityName': 'Tsuen Wan Sports Centre', 'Address': '53 Wing Shun Street, Tsuen Wan, N.T.', 'District': 'TSUEN WAN', 'FacilityType': \"Activity Rooms, Badminton Courts, Basketball Courts, Chilren's Play Rooms, Dance Rooms, Fitness Rooms, Spectator Stands, SPORTS CENTRES, Sports Climbing Facilities, Table Tennis Tables, Volleyball Courts\", 'Lat': 22.36596, 'Lng': 114.11264}, {'FacilityName': 'Tsuen Wan West Sports Centre', 'Address': '68 Hoi On Road, Tsuen Wan', 'District': 'TSUEN WAN', 'FacilityType': 'Basketball Courts, Volleyball Courts, Badminton Courts, Squash Courts, Table Tennis Tables, Activity Rooms, Fitness Rooms', 'Lat': 22.37048, 'Lng': 114.10051}, {'FacilityName': 'Tsui Lam Sports Centre', 'Address': 'Tsui Lam Estate, Sai Kung', 'District': 'SAI KUNG', 'FacilityType': 'Basketball Courts, Volleyball Courts, Badminton Courts, Squash Courts, Table Tennis Tables, Activity Rooms, Fitness Rooms', 'Lat': 22.32223, 'Lng': 114.24953}, {'FacilityName': 'Tung Chung Man Tung Road Sports Centre', 'Address': 'G/F., Tung Chung Municipal Services Building, 39 Man Tung Road, Tung Chung', 'District': 'ISLANDS', 'FacilityType': \"Basketball Courts, Volleyball Courts, Badminton Courts, Table Tennis Tables, Activity Rooms, Fitness Rooms, Chilren's Play Rooms\", 'Lat': 22.29059, 'Lng': 113.94383}, {'FacilityName': 'Wai Tsuen Sports Centre', 'Address': '6 Miu Kong Street, Tsuen Wan', 'District': 'TSUEN WAN', 'FacilityType': 'Basketball Courts, Volleyball Courts, Badminton Courts, Squash Courts, Table Tennis Tables, Activity Rooms, Fitness Rooms', 'Lat': 22.37232, 'Lng': 114.12249}, {'FacilityName': 'Wo Hing Sports Centre', 'Address': '8 Wo Ming Lane, Fanling', 'District': 'NORTH', 'FacilityType': 'Basketball Courts, Volleyball Courts, Badminton Courts, Tennis Courts, Activity Rooms, Fitness Rooms, Squash Courts, Table Tennis Tables, American Pool Tables', 'Lat': 22.48475, 'Lng': 114.14314}, {'FacilityName': 'Yau Oi Sports Centre', 'Address': '3 Hing On Lane, Tuen Mun', 'District': 'TUEN MUN', 'FacilityType': 'Basketball Courts, Volleyball Courts, Netball Courts, Badminton Courts, Squash Courts, Table Tennis Tables, Activity Rooms, Fitness Rooms', 'Lat': 22.38546, 'Lng': 113.9718}, {'FacilityName': 'Yeung Uk Road Sports Centre', 'Address': '4/F Yeung Uk Road Municipal Services Building, 45 Yeung Uk Road, Tsuen Wan', 'District': 'TSUEN WAN', 'FacilityType': 'Basketball Courts, Volleyball Courts, Badminton Courts, Squash Courts, Table Tennis Tables, Activity Rooms, Fitness Rooms', 'Lat': 22.36899, 'Lng': 114.11452}, {'FacilityName': 'Yuen Long Sports Centre', 'Address': '3/F, Yuen Long Leisure and Cultural Building, 52 Ma Tin Road, Yuen Long', 'District': 'YUEN LONG', 'FacilityType': \"Badminton Courts, Activity Rooms, Basketball Courts, Volleyball Courts, Fitness Rooms, Table Tennis Tables, Chilren's Play Rooms\", 'Lat': 22.44147, 'Lng': 114.02386}, {'FacilityName': 'Yuen Wo Road Sports Centre', 'Address': '4 Yuen Wo Road, Sha Tin', 'District': 'SHA TIN', 'FacilityType': 'Basketball Courts, Volleyball Courts, Netball Courts, Badminton Courts, Squash Courts, Table Tennis Tables, Activity Rooms, Fitness Rooms', 'Lat': 22.38294, 'Lng': 114.19257}]\n",
      "\n",
      "\n",
      "['Aberdeen Sports Centre', 'Ap Lei Chau Sports Centre', 'Chai Wan Sports Centre', 'Cheung Chau Sports Centre', 'Cheung Fat Sports Centre', 'Choi Hung Road Sports Centre', 'Chuk Yuen Sports Centre', 'Fa Yuen Street Sports Centre', 'Fat Kwong Street Sports Centre', 'Fu Heng Sports Centre', 'Fu Shin Sports Centre', 'Fung Kam Street Sports Centre', 'Fung Shue Wo Sports Centre', 'Hang Hau Sports Centre', 'Heng On Sports Centre', 'Ho Man Tin Sports Centre', 'Hong Kong Park Sports Centre', 'Island East Sports Centre', 'Kowloon Park Sports Centre', 'Kwun Chung Sports Centre', 'Lai King Sports Centre', 'Lam Tin South Sports Centre', 'Lei Yue Mun Sports Centre', 'Leung Tin Sports Centre', 'Lockhart Road Sports Centre', 'Long Ping Sports Centre', 'Luen Wo Hui Sports Centre', 'Lung Sum Avenue Sports Centre', 'Ma On Shan Sports Centre', 'Mei Lam Sports Centre', 'Mui Wo Sports Centre', 'Ngau Tau Kok Road Sports Centre', 'North Kwai Chung Tang Shiu Kin Sports Centre', 'Osman Ramju Sadick Memorial Sports Centre', 'Pei Ho Street Sports Centre', 'Peng Chau Sports Centre', 'Po Kong Village Road Sports Centre', 'Po Lam Sports Centre', 'Po On Road Sports Centre', 'Po Wing Road Sports Centre', 'Quarry Bay Sports Centre', 'Shek Kip Mei Park Sports Centre', 'Shek Tong Tsui Sports Centre', 'Sheung Wan Sports Centre', 'Shun Lee Tsuen Sports Centre', 'Siu Lun Sports Centre', 'Smithfield Sports Centre', 'Sun Yat Sen Memorial Park Sports Centre', 'Tai Hing Sports Centre', 'Tai Kok Tsui Sports Centre', 'Tai Po Hui Sports Centre', 'Tai Po Sports Centre', 'Tai Wo Hau Sports Centre', 'Tai Wo Sports Centre', 'The Jockey Club Tuen Mun Butterfly Beach Sports Centre', 'Tin Fai Road Sports Centre', 'Tin Ping Sports Centre', 'Tin Shui Sports Centre', 'Tin Shui Wai Sports Centre', 'To Kwa Wan Sports Centre', 'Tseung Kwan O Sports Centre', 'Tsing Yi Sports Centre', 'Tsuen Wan Sports Centre', 'Tsuen Wan West Sports Centre', 'Tsui Lam Sports Centre', 'Tung Chung Man Tung Road Sports Centre', 'Wai Tsuen Sports Centre', 'Wo Hing Sports Centre', 'Yau Oi Sports Centre', 'Yeung Uk Road Sports Centre', 'Yuen Long Sports Centre', 'Yuen Wo Road Sports Centre']\n"
     ]
    }
   ],
   "source": [
    "import requests\n",
    "\n",
    "headers = {\n",
    "'Authorization': 'Bearer keyAWB8coCDESNvtz',\n",
    "}\n",
    "\n",
    "params = (\n",
    "('view', 'Grid view'),\n",
    ")\n",
    "\n",
    "r = requests.get('https://api.airtable.com/v0/appDl5SHlWhxMMLrB/Imported%20table%202%20copy?api_key=keyAWB8coCDESNvtz', headers=headers, params=params)\n",
    "dict = r.json()\n",
    "dataset = []\n",
    "FacilityName = []\n",
    "Address = []\n",
    "FacilityType = []\n",
    "Lat = []\n",
    "Lng = []\n",
    "for i in dict['records']:\n",
    "     dict = i['fields']\n",
    "     dataset.append(dict)\n",
    "print(dataset)\n",
    "print('\\n')\n",
    "for dicts in dataset:\n",
    "    FacilityName.append(dicts.get('FacilityName'))\n",
    "    Address.append(dicts.get('Address'))\n",
    "    FacilityType.append(dicts.get('FacilityType'))\n",
    "    Lat.append(dicts.get('Lat'))\n",
    "    Lng.append(dicts.get('Lng'))\n",
    "print(FacilityName)"
   ]
  },
  {
   "cell_type": "code",
   "execution_count": null,
   "metadata": {},
   "outputs": [],
   "source": []
  }
 ],
 "metadata": {
  "kernelspec": {
   "display_name": "Python 3",
   "language": "python",
   "name": "python3"
  },
  "language_info": {
   "codemirror_mode": {
    "name": "ipython",
    "version": 3
   },
   "file_extension": ".py",
   "mimetype": "text/x-python",
   "name": "python",
   "nbconvert_exporter": "python",
   "pygments_lexer": "ipython3",
   "version": "3.7.4"
  }
 },
 "nbformat": 4,
 "nbformat_minor": 2
}
